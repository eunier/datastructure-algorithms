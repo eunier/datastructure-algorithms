{
 "cells": [
  {
   "cell_type": "code",
   "execution_count": 2,
   "metadata": {
    "collapsed": true
   },
   "outputs": [
    {
     "data": {
      "text/plain": [
       "'\"# Find the Missing Element\\n\\n## Problem\\n\\nConsider an array of non-negative integers. A second array is formed by shuffling the elements of the first array and \\ndeleting a random element. Given these two arrays, find which element is missing in the second array. \\n\\nHere is an example input, the first array is shuffled and the number 5 is removed to construct the second array.\\n\\nInput:\\n    \\n    finder([1,2,3,4,5,6,7],[3,7,2,1,4,6])\\n\\nOutput:\\n\\n    5 is the missing number\\n'"
      ]
     },
     "execution_count": 2,
     "metadata": {},
     "output_type": "execute_result"
    }
   ],
   "source": [
    "\"\"\"\"# Find the Missing Element\n",
    "\n",
    "## Problem\n",
    "\n",
    "Consider an array of non-negative integers. A second array is formed by shuffling the elements of the first array and \n",
    "deleting a random element. Given these two arrays, find which element is missing in the second array. \n",
    "\n",
    "Here is an example input, the first array is shuffled and the number 5 is removed to construct the second array.\n",
    "\n",
    "Input:\n",
    "    \n",
    "    finder([1,2,3,4,5,6,7],[3,7,2,1,4,6])\n",
    "\n",
    "Output:\n",
    "\n",
    "    5 is the missing number\n",
    "\"\"\"\n"
   ]
  },
  {
   "cell_type": "code",
   "execution_count": 4,
   "metadata": {},
   "outputs": [],
   "source": [
    "import collections"
   ]
  },
  {
   "cell_type": "code",
   "execution_count": 9,
   "metadata": {},
   "outputs": [],
   "source": [
    "def find(list1, list2):\n",
    "    d = collections.defaultdict(int)\n",
    "    \n",
    "    for num in list2:\n",
    "        d[num] += 1\n",
    "        \n",
    "    for num in list1:\n",
    "        if d[num] == 0:\n",
    "            return num\n",
    "        \n",
    "    return list1[\n"
   ]
  }
 ],
 "metadata": {
  "kernelspec": {
   "display_name": "Python 2",
   "language": "python",
   "name": "python2"
  },
  "language_info": {
   "codemirror_mode": {
    "name": "ipython",
    "version": 2
   },
   "file_extension": ".py",
   "mimetype": "text/x-python",
   "name": "python",
   "nbconvert_exporter": "python",
   "pygments_lexer": "ipython2",
   "version": "2.7.6"
  }
 },
 "nbformat": 4,
 "nbformat_minor": 0
}
